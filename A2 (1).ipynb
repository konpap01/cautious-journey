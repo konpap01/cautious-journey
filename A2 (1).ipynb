{
 "cells": [
  {
   "cell_type": "markdown",
   "id": "ec711623",
   "metadata": {
    "deletable": false,
    "editable": false,
    "nbgrader": {
     "cell_type": "markdown",
     "checksum": "c5ea14d374452f5cad9bd6f7a63307d6",
     "grade": false,
     "grade_id": "intro",
     "locked": true,
     "schema_version": 3,
     "solution": false,
     "task": false
    }
   },
   "source": [
    "# Assignment 2\n",
    "\n",
    "This notebook contains a set of exercises that will guide you through the different steps of this assignment. The aim of this assignment is to assess your mastery in manipulating different Python data structures using conditionals and functions.\n",
    "\n",
    "<div class=\"alert alert-danger\"><b>Submission deadline:</b> Friday, April 8th, 13:55</div>\n",
    "\n",
    "### Instructions\n",
    "\n",
    "Read carefully the following instructions before starting the exercises.\n",
    "\n",
    "- This notebook is automatically graded. This means that there are several cells embedded into the notebook that take care of checking your code and grading it. It also means that it is important **to follow the instructions for each of the exercises** to make sure that you do everything right.\n",
    "\n",
    "- There exist many different solutions to every exercise. We will accept different solutions as long as they are based on Python code. \n",
    "\n",
    "- Write your code in the dedicated cells. You can use as many cells as you like. Just make sure to include all the necessary code **before the corresponding test**.\n",
    "\n",
    "- Tests look for specific variables and functions. This means that in order to receive the points for each exercise, you need to **create those variables**.\n",
    "\n",
    "- The grading tests will remain hidden. It is important that you **do not write any code, nor do you remove the cells left in blank** for this purpose. \n",
    "\n",
    "- Also, since you will be creating different functions, be careful **not to modify their given names** or those of their attributes.\n",
    "\n",
    "- Late submissions or submission in a wrong format **will not be accepted**. The only valid format for the assignment is '.ipynb'\n"
   ]
  },
  {
   "cell_type": "markdown",
   "id": "077397b1",
   "metadata": {
    "deletable": false,
    "editable": false,
    "nbgrader": {
     "cell_type": "markdown",
     "checksum": "d7ac62eeb67e2da884ed8aa539f2e939",
     "grade": false,
     "grade_id": "cell-b1f0dd247b05fa6c",
     "locked": true,
     "schema_version": 3,
     "solution": false,
     "task": false
    }
   },
   "source": [
    "### Context\n",
    "\n",
    "Let's continue our data analysis using Python. To this aim, assume we have the following list containing the votes emitted by the electors of a given polling station.\n",
    "\n",
    "\n",
    "<div class=\"alert alert-warning\">\n",
    "['Partido Popular',\n",
    " 'Coalición Canaria',\n",
    " 'Frente Obrero',\n",
    " 'Escaños en Blanco',\n",
    " 'Junts Per Catalunya',\n",
    " 'Partido Socialista Obrero Español',\n",
    " 'Libres',\n",
    " 'Partido Popular',\n",
    " 'Frente Obrero',\n",
    " 'Coalición Canaria',\n",
    " 'Recortes Cero',\n",
    " 'España Vaciada',\n",
    " 'Vox',\n",
    " 'Esquerra Republicana de Catalunya',\n",
    " 'Partido Comunista de los Trabajadores de España',\n",
    " 'Candidatura de Unidad Popular',\n",
    " 'Partido Animalista Con el Medio Ambiente',\n",
    " 'Bloque Extremeño',\n",
    " 'Bloque Nacionalista Galego',\n",
    " 'Candidatura de Unidad Popular',\n",
    " 'Junts Per Catalunya',\n",
    " 'Esquerra Republicana de Catalunya',\n",
    " 'Partido Socialista Obrero Español',\n",
    " 'Escaños en Blanco',\n",
    " 'Candidatura de Unidad Popular',\n",
    " 'Junts Per Catalunya',\n",
    " 'Partido Nacionalista Vasco',\n",
    " 'Esquerra Republicana de Catalunya',\n",
    " 'Falange Española de las JONS',\n",
    " 'Partido Socialista Obrero Español',\n",
    " 'Partido Popular',\n",
    " 'EH Bildu',\n",
    " 'Partido Popular',\n",
    " 'Coalición Canaria',\n",
    " 'Libres',\n",
    " 'Libres',\n",
    " 'Partido Regionalista del País Leonés',\n",
    " 'Por un Mundo Más Justo',\n",
    " 'Junts Per Catalunya',\n",
    " 'Falange Española de las JONS']\n",
    "  </div>\n",
    "  \n",
    "Naturally, the next step in the process would be to count how many votes each party has attained. In order to do so, we ask you to write the following function.\n",
    "\n",
    "\n",
    "<div class=\"alert alert-info\"> \n",
    "    \n",
    "<b>Exercise 1</b> \n",
    "    \n",
    "Write the code to complete function `count_votes`. This function should take as input a parameter of type string called `party` containing the name of the party for which we desire to count the votes, and a list named `votes` containing all the votes, in the form `['party_vote1', 'party_vote2', ...]`. The function must count all the occurrences of the party in the provided list and **return** the total number of votes for the provided party name.\n",
    "    \n",
    "<br><i>[2.5 points]</i>\n",
    "</div>"
   ]
  },
  {
   "cell_type": "code",
   "execution_count": 3,
   "id": "1fb2f83b",
   "metadata": {
    "deletable": false,
    "nbgrader": {
     "cell_type": "code",
     "checksum": "1ec47593a326426126cba7bfa35de235",
     "grade": false,
     "grade_id": "ex1",
     "locked": false,
     "schema_version": 3,
     "solution": true,
     "task": false
    }
   },
   "outputs": [],
   "source": [
    "polling_station_votes =['Partido Popular', 'Coalición Canaria', 'Frente Obrero', 'Escaños en Blanco', 'Junts Per Catalunya',\n",
    "                         'Partido Socialista Obrero Español', 'Libres', 'Partido Popular', 'Frente Obrero', 'Coalición Canaria',\n",
    "                         'Recortes Cero', 'España Vaciada', 'Vox', 'Esquerra Republicana de Catalunya',\n",
    "                         'Partido Comunista de los Trabajadores de España', 'Candidatura de Unidad Popular',\n",
    "                         'Partido Animalista Con el Medio Ambiente', 'Bloque Extremeño', 'Bloque Nacionalista Galego',\n",
    "                         'Candidatura de Unidad Popular', 'Junts Per Catalunya', 'Esquerra Republicana de Catalunya',\n",
    "                         'Partido Socialista Obrero Español', 'Escaños en Blanco', 'Candidatura de Unidad Popular', 'Junts Per Catalunya',\n",
    "                         'Partido Nacionalista Vasco', 'Esquerra Republicana de Catalunya', 'Falange Española de las JONS',\n",
    "                         'Partido Socialista Obrero Español', 'Partido Popular', 'EH Bildu', 'Partido Popular', 'Coalición Canaria', 'Libres',\n",
    "                         'Libres', 'Partido Regionalista del País Leonés', 'Por un Mundo Más Justo', 'Junts Per Catalunya',\n",
    "                         'Falange Española de las JONS']\n",
    "\n",
    "def count_votes(party, votes):\n",
    "    # YOUR CODE HERE\n",
    "    sum = 0\n",
    "    for i in range(len(votes)):\n",
    "        if party == votes[i]:\n",
    "            sum = sum + 1\n",
    "\n",
    "    return sum\n",
    "    "
   ]
  },
  {
   "cell_type": "markdown",
   "id": "234f943d",
   "metadata": {
    "deletable": false,
    "editable": false,
    "nbgrader": {
     "cell_type": "markdown",
     "checksum": "04bb8aa780a627a06b32c5f76481587f",
     "grade": false,
     "grade_id": "cell-03d009326dd7c50b",
     "locked": true,
     "schema_version": 3,
     "solution": false,
     "task": false
    }
   },
   "source": [
    "The following cells run additional checks to your code. Please **don't write any code here**. Just leave them as they are."
   ]
  },
  {
   "cell_type": "code",
   "execution_count": null,
   "id": "19e7c1bd",
   "metadata": {
    "deletable": false,
    "editable": false,
    "nbgrader": {
     "cell_type": "code",
     "checksum": "68ecdd3b3d805baa5acee240c7c43b34",
     "grade": true,
     "grade_id": "test1_1",
     "locked": true,
     "points": 0.25,
     "schema_version": 3,
     "solution": false,
     "task": false
    }
   },
   "outputs": [],
   "source": [
    "# LEAVE BLANK"
   ]
  },
  {
   "cell_type": "code",
   "execution_count": 5,
   "id": "7624b775",
   "metadata": {
    "deletable": false,
    "editable": false,
    "nbgrader": {
     "cell_type": "code",
     "checksum": "c4e0db1089edac1cc6ab7d67d3636ae6",
     "grade": true,
     "grade_id": "test1_2",
     "locked": true,
     "points": 0.25,
     "schema_version": 3,
     "solution": false,
     "task": false
    }
   },
   "outputs": [],
   "source": [
    "# LEAVE BLANK\n"
   ]
  },
  {
   "cell_type": "code",
   "execution_count": null,
   "id": "7b9b6cdd",
   "metadata": {
    "deletable": false,
    "editable": false,
    "nbgrader": {
     "cell_type": "code",
     "checksum": "047d3e34f534a92950f8106dea128230",
     "grade": true,
     "grade_id": "test1_3",
     "locked": true,
     "points": 0.25,
     "schema_version": 3,
     "solution": false,
     "task": false
    }
   },
   "outputs": [],
   "source": [
    "# LEAVE BLANK\n"
   ]
  },
  {
   "cell_type": "code",
   "execution_count": null,
   "id": "39c97085",
   "metadata": {
    "deletable": false,
    "editable": false,
    "nbgrader": {
     "cell_type": "code",
     "checksum": "0514da5cdb797a2ddedd56f48e71a125",
     "grade": true,
     "grade_id": "test1_4",
     "locked": true,
     "points": 0.25,
     "schema_version": 3,
     "solution": false,
     "task": false
    }
   },
   "outputs": [],
   "source": [
    "# LEAVE BLANK"
   ]
  },
  {
   "cell_type": "code",
   "execution_count": null,
   "id": "2efd3113",
   "metadata": {
    "deletable": false,
    "editable": false,
    "nbgrader": {
     "cell_type": "code",
     "checksum": "f3933a40d1add26fc64aaf0bcf522a5f",
     "grade": true,
     "grade_id": "test1_5",
     "locked": true,
     "points": 0.75,
     "schema_version": 3,
     "solution": false,
     "task": false
    }
   },
   "outputs": [],
   "source": [
    "# LEAVE BLANK\n"
   ]
  },
  {
   "cell_type": "code",
   "execution_count": null,
   "id": "e7a5dd0d",
   "metadata": {
    "deletable": false,
    "editable": false,
    "nbgrader": {
     "cell_type": "code",
     "checksum": "2c8e0351313d08e835102fd2c3d76b0f",
     "grade": true,
     "grade_id": "test1_6",
     "locked": true,
     "points": 0.75,
     "schema_version": 3,
     "solution": false,
     "task": false
    }
   },
   "outputs": [],
   "source": [
    "# LEAVE BLANK\n"
   ]
  },
  {
   "cell_type": "markdown",
   "id": "affdbdf5",
   "metadata": {
    "deletable": false,
    "editable": false,
    "nbgrader": {
     "cell_type": "markdown",
     "checksum": "92acd7db85a580be04c8166d5987a2fb",
     "grade": false,
     "grade_id": "cell-a64f49451d731194",
     "locked": true,
     "schema_version": 3,
     "solution": false,
     "task": false
    }
   },
   "source": [
    "Political parties usually have very long names. However, they are widely known by their acronyms.\n",
    "\n",
    "<div class=\"alert alert-info\">\n",
    "    \n",
    "<b>Exercise 2 </b> \n",
    "    \n",
    "Write a function <i>get_acronym</i> that takes a single input argument named <b>full_name</b>. This argument should be a string containing the full name of a political party. The function should return the acronym of the party's name if it consists of two or more words or full name as it is otherwise.\n",
    "    \n",
    "<br><i>[3 points]</i>\n",
    "</div>\n",
    "\n",
    "<div class=\"alert alert-warning\"> \n",
    "    \n",
    "For instance, if the function is called with the input \"Republican Party,\" it should return \"RP\" as the acronym. If the input is \"Democratic,\" the function should return \"Democratic.\" Similarly, if the input is \"Green Party,\" the function should return \"GP.\"\n",
    "</div>"
   ]
  },
  {
   "cell_type": "code",
   "execution_count": 1,
   "id": "ed973228",
   "metadata": {
    "deletable": false,
    "nbgrader": {
     "cell_type": "code",
     "checksum": "4cf452e1ad03915e7fcf6eb207b647ee",
     "grade": false,
     "grade_id": "ex2",
     "locked": false,
     "schema_version": 3,
     "solution": true,
     "task": false
    }
   },
   "outputs": [],
   "source": [
    "party_full_name = \"Esquerra Republicana de Catalunya\"\n",
    "\n",
    "def get_acronym(full_name):\n",
    "    # YOUR CODE HERE\n",
    "    words = full_name.split()\n",
    "    \n",
    "    if len(words) > 1:\n",
    "        acronym = ''.join([word[0].upper() for word in words])\n",
    "        return acronym\n",
    "\n",
    "    else:\n",
    "        return full_name\n",
    "\n",
    "    "
   ]
  },
  {
   "cell_type": "markdown",
   "id": "fb0e01d9",
   "metadata": {
    "deletable": false,
    "editable": false,
    "nbgrader": {
     "cell_type": "markdown",
     "checksum": "a6791b715d58cbceac08f6d4f41d3fdf",
     "grade": false,
     "grade_id": "cell-55fc72df86348ca4",
     "locked": true,
     "schema_version": 3,
     "solution": false,
     "task": false
    }
   },
   "source": [
    "The following cell runs additional checks to your code. Please **don't write any code here**. Just leave it as it is."
   ]
  },
  {
   "cell_type": "code",
   "execution_count": null,
   "id": "92b0c643",
   "metadata": {
    "deletable": false,
    "editable": false,
    "nbgrader": {
     "cell_type": "code",
     "checksum": "dce4ce98b9aa0e83a8639da4e094c460",
     "grade": true,
     "grade_id": "test2_1",
     "locked": true,
     "points": 0.25,
     "schema_version": 3,
     "solution": false,
     "task": false
    }
   },
   "outputs": [],
   "source": [
    "# LEAVE BLANK"
   ]
  },
  {
   "cell_type": "code",
   "execution_count": null,
   "id": "80f604c8",
   "metadata": {
    "deletable": false,
    "editable": false,
    "nbgrader": {
     "cell_type": "code",
     "checksum": "1475602122f5703ca985c52402000b8d",
     "grade": true,
     "grade_id": "test2_2",
     "locked": true,
     "points": 0.25,
     "schema_version": 3,
     "solution": false,
     "task": false
    }
   },
   "outputs": [],
   "source": [
    "# LEAVE BLANK"
   ]
  },
  {
   "cell_type": "code",
   "execution_count": null,
   "id": "c1edb8f5",
   "metadata": {
    "deletable": false,
    "editable": false,
    "nbgrader": {
     "cell_type": "code",
     "checksum": "30fe3e5887b244d5c37b0c20d8c94a7f",
     "grade": true,
     "grade_id": "test2_3",
     "locked": true,
     "points": 0.25,
     "schema_version": 3,
     "solution": false,
     "task": false
    }
   },
   "outputs": [],
   "source": [
    "# LEAVE BLANK"
   ]
  },
  {
   "cell_type": "code",
   "execution_count": null,
   "id": "a56be8f1",
   "metadata": {
    "deletable": false,
    "editable": false,
    "nbgrader": {
     "cell_type": "code",
     "checksum": "d82352b77c672e91d9832f1b345a05db",
     "grade": true,
     "grade_id": "test2_4",
     "locked": true,
     "points": 0.25,
     "schema_version": 3,
     "solution": false,
     "task": false
    }
   },
   "outputs": [],
   "source": [
    "# LEAVE BLANK"
   ]
  },
  {
   "cell_type": "code",
   "execution_count": null,
   "id": "24924845",
   "metadata": {
    "deletable": false,
    "editable": false,
    "nbgrader": {
     "cell_type": "code",
     "checksum": "3c5ecf12983341d0e66ae94045a97693",
     "grade": true,
     "grade_id": "test2_5",
     "locked": true,
     "points": 1,
     "schema_version": 3,
     "solution": false,
     "task": false
    }
   },
   "outputs": [],
   "source": [
    "# LEAVE BLANK"
   ]
  },
  {
   "cell_type": "code",
   "execution_count": null,
   "id": "7941fc92",
   "metadata": {
    "deletable": false,
    "editable": false,
    "nbgrader": {
     "cell_type": "code",
     "checksum": "5a95cc120bc4f16e367c0a482341b700",
     "grade": true,
     "grade_id": "test2_6",
     "locked": true,
     "points": 1,
     "schema_version": 3,
     "solution": false,
     "task": false
    }
   },
   "outputs": [],
   "source": [
    "# LEAVE BLANK"
   ]
  },
  {
   "cell_type": "markdown",
   "id": "d661ba9b",
   "metadata": {
    "deletable": false,
    "editable": false,
    "nbgrader": {
     "cell_type": "markdown",
     "checksum": "ee41921daa37c59241f5e19c40f1d409",
     "grade": false,
     "grade_id": "cell-d0a4738d3b41f798",
     "locked": true,
     "schema_version": 3,
     "solution": false,
     "task": false
    }
   },
   "source": [
    "After the counting votes and shortening names, the total number of seats obtained by each party is given below:\n",
    "\n",
    "<div class=\"alert alert-warning\">\n",
    "{'PSOE': 100,\n",
    "                     'ERC': 37,\n",
    "                     'Junts': 32,\n",
    "                     'Vox': 23,\n",
    "                     'CUP': 31,\n",
    "                     'Sumar': 19,\n",
    "                     'UPN': 15,\n",
    "                     'PP': 93}\n",
    "  </div>\n",
    "  \n",
    "To predict possible cooperation agreements arising from these results, we would like to know which combinations of three parties would result in viable coalitions. The Congreso de los Diputados is composed of 350 seats. Any coalition aiming at forming a government should achieve at least 68 seats. Therefore, their combined seats should add up to this number or greater.\n",
    "\n",
    "<div class=\"alert alert-info\">\n",
    "\n",
    "<b>Exercise 3</b> \n",
    "    \n",
    "Write the code to complete function `is_coalition`. This function should take as input three arguments of type string called `party_1`, `party_2` and `party_3`, containing the names of three different parties, together with a dictionary called `results` containing the results obtained by all parties in the form of pairs `{'party_name': votes}`. The function must check whether the three parties submitted include any duplicates. If they do, it should and **return** the following warning message `Repeated parties detected`. In addition, the function should also check if the input parties are included in the results dictionary. If they are not, it should **return** a warning message stating that `Parties not present in results`. Finally, after the inputs have been properly validated, the function must return `True` if the sum of the party votes enables them to form government or `False` otherwise.\n",
    "    \n",
    " <br><i>[4.5 points]</i>\n",
    " </div>"
   ]
  },
  {
   "cell_type": "code",
   "execution_count": 3,
   "id": "74a9aa65",
   "metadata": {
    "deletable": false,
    "nbgrader": {
     "cell_type": "code",
     "checksum": "79724370a0e16fe015c42033a4a7abc9",
     "grade": false,
     "grade_id": "ex3",
     "locked": false,
     "schema_version": 3,
     "solution": true,
     "task": false
    }
   },
   "outputs": [],
   "source": [
    "counting_results = {'PSOE': 100,\n",
    "                     'ERC': 37,\n",
    "                     'Junts': 32,\n",
    "                     'Vox': 23,\n",
    "                     'CUP': 31,\n",
    "                     'Sumar': 19,\n",
    "                     'UPN': 15,\n",
    "                     'PP': 93}\n",
    "\n",
    "def is_coalition(party_1, party_2, party_3, results):\n",
    "    # YOUR CODE HERE\n",
    "    if len({party_1, party_2, party_3}) < 3:\n",
    "        return \"Repeated parties detected\"\n",
    "    \n",
    "    if party_1 not in results or party_2 not in results or party_3 not in results:\n",
    "        return \"Parties not present in results\"\n",
    "    \n",
    "    total_seats = results[party_1] + results[party_2] + results[party_3]\n",
    "    \n",
    "    if total_seats >= 68:\n",
    "        return True\n",
    "    else:\n",
    "        return False\n"
   ]
  },
  {
   "cell_type": "markdown",
   "id": "232366ff",
   "metadata": {
    "deletable": false,
    "editable": false,
    "nbgrader": {
     "cell_type": "markdown",
     "checksum": "68aff6614310c1ab502262ee76cc48f1",
     "grade": false,
     "grade_id": "ex1-dontwrite",
     "locked": true,
     "schema_version": 3,
     "solution": false,
     "task": false
    }
   },
   "source": [
    "The following cell runs additional checks to your code. Please **don't write any code here**. Just leave it as it is."
   ]
  },
  {
   "cell_type": "code",
   "execution_count": null,
   "id": "d3ca7c2d",
   "metadata": {
    "deletable": false,
    "editable": false,
    "nbgrader": {
     "cell_type": "code",
     "checksum": "a75ee900d85728951e8b462c9756e4a3",
     "grade": true,
     "grade_id": "test3_1",
     "locked": true,
     "points": 0.25,
     "schema_version": 3,
     "solution": false,
     "task": false
    }
   },
   "outputs": [],
   "source": [
    "# LEAVE BLANK"
   ]
  },
  {
   "cell_type": "code",
   "execution_count": null,
   "id": "26fd46c5",
   "metadata": {
    "deletable": false,
    "editable": false,
    "nbgrader": {
     "cell_type": "code",
     "checksum": "3b401e09aa1f0f2697e7cb6d8f46925b",
     "grade": true,
     "grade_id": "test3_2",
     "locked": true,
     "points": 0.25,
     "schema_version": 3,
     "solution": false,
     "task": false
    }
   },
   "outputs": [],
   "source": [
    "# LEAVE BLANK\n"
   ]
  },
  {
   "cell_type": "code",
   "execution_count": null,
   "id": "c1e31fbe",
   "metadata": {
    "deletable": false,
    "editable": false,
    "nbgrader": {
     "cell_type": "code",
     "checksum": "604ed1f7c08081a9f036dd4ab15e9777",
     "grade": true,
     "grade_id": "test3_3",
     "locked": true,
     "points": 0.25,
     "schema_version": 3,
     "solution": false,
     "task": false
    }
   },
   "outputs": [],
   "source": [
    "# LEAVE BLANK\n"
   ]
  },
  {
   "cell_type": "code",
   "execution_count": null,
   "id": "4e1d3924",
   "metadata": {
    "deletable": false,
    "editable": false,
    "nbgrader": {
     "cell_type": "code",
     "checksum": "5e063b798afc26e1d0b6dcd1f39ac3fa",
     "grade": true,
     "grade_id": "test3_4",
     "locked": true,
     "points": 0.25,
     "schema_version": 3,
     "solution": false,
     "task": false
    }
   },
   "outputs": [],
   "source": [
    "# LEAVE BLANK"
   ]
  },
  {
   "cell_type": "code",
   "execution_count": null,
   "id": "dd9f3c2d",
   "metadata": {
    "deletable": false,
    "editable": false,
    "nbgrader": {
     "cell_type": "code",
     "checksum": "a18e66ed594e274b0b2773ee6fbc7c96",
     "grade": true,
     "grade_id": "test3_5",
     "locked": true,
     "points": 0.75,
     "schema_version": 3,
     "solution": false,
     "task": false
    }
   },
   "outputs": [],
   "source": [
    "# LEAVE BLANK\n"
   ]
  },
  {
   "cell_type": "code",
   "execution_count": null,
   "id": "e42ceacb",
   "metadata": {
    "deletable": false,
    "editable": false,
    "nbgrader": {
     "cell_type": "code",
     "checksum": "abab8c5e8f1e29df5d3504d878cce62f",
     "grade": true,
     "grade_id": "test3_6",
     "locked": true,
     "points": 0.75,
     "schema_version": 3,
     "solution": false,
     "task": false
    }
   },
   "outputs": [],
   "source": [
    "# LEAVE BLANK\n"
   ]
  },
  {
   "cell_type": "code",
   "execution_count": null,
   "id": "1b559cc4",
   "metadata": {
    "deletable": false,
    "editable": false,
    "nbgrader": {
     "cell_type": "code",
     "checksum": "e6fda3d94a4202a8ea47d18e4b0c0659",
     "grade": true,
     "grade_id": "test3_7",
     "locked": true,
     "points": 1,
     "schema_version": 3,
     "solution": false,
     "task": false
    }
   },
   "outputs": [],
   "source": [
    "# LEAVE BLANK\n"
   ]
  },
  {
   "cell_type": "code",
   "execution_count": null,
   "id": "a383656b",
   "metadata": {
    "deletable": false,
    "editable": false,
    "nbgrader": {
     "cell_type": "code",
     "checksum": "1eb9f9a54f5f3ad7bf221207f721f646",
     "grade": true,
     "grade_id": "test3_8",
     "locked": true,
     "points": 1,
     "schema_version": 3,
     "solution": false,
     "task": false
    }
   },
   "outputs": [],
   "source": [
    "# LEAVE BLANK\n"
   ]
  }
 ],
 "metadata": {
  "kernelspec": {
   "display_name": "Python 3 (ipykernel)",
   "language": "python",
   "name": "python3"
  },
  "language_info": {
   "codemirror_mode": {
    "name": "ipython",
    "version": 3
   },
   "file_extension": ".py",
   "mimetype": "text/x-python",
   "name": "python",
   "nbconvert_exporter": "python",
   "pygments_lexer": "ipython3",
   "version": "3.12.4"
  }
 },
 "nbformat": 4,
 "nbformat_minor": 5
}
