{
 "cells": [
  {
   "cell_type": "code",
   "execution_count": 1,
   "id": "59ed93fe-47bb-425f-9c1e-b7c824956518",
   "metadata": {},
   "outputs": [],
   "source": [
    "#Python Excersices Session 1"
   ]
  },
  {
   "cell_type": "code",
   "execution_count": 7,
   "id": "0f61ce41-4e72-4923-9c0e-c573ef0d0845",
   "metadata": {},
   "outputs": [
    {
     "name": "stdout",
     "output_type": "stream",
     "text": [
      "Hello World!\n"
     ]
    }
   ],
   "source": [
    "#Exercise 1: Print a Greeting\n",
    "print(\"Hello World!\")"
   ]
  },
  {
   "cell_type": "code",
   "execution_count": 11,
   "id": "2879c8e6-8524-4824-88e4-df35c2badfc2",
   "metadata": {},
   "outputs": [
    {
     "name": "stdout",
     "output_type": "stream",
     "text": [
      "9 1 20 1.25\n"
     ]
    }
   ],
   "source": [
    "#Exercise 2: Basic Arithmetic\n",
    "a = 5\n",
    "b = 4\n",
    "print(a+b, a-b, a*b, a/b)"
   ]
  },
  {
   "cell_type": "code",
   "execution_count": 15,
   "id": "88744950-67bd-4afb-ae64-fdade7a8606f",
   "metadata": {},
   "outputs": [
    {
     "name": "stdout",
     "output_type": "stream",
     "text": [
      "Hello Konstantinos\n"
     ]
    }
   ],
   "source": [
    "#Exercise 3: String Manipulation\n",
    "name = \"Konstantinos\"\n",
    "print(\"Hello\", name)"
   ]
  },
  {
   "cell_type": "code",
   "execution_count": 21,
   "id": "0f847b2f-b852-4bd8-8763-413d6e9d619e",
   "metadata": {},
   "outputs": [
    {
     "name": "stdout",
     "output_type": "stream",
     "text": [
      "['Bocconi', 'Esade', 'Harvard', 'UCL']\n",
      "Bocconi UCL\n"
     ]
    }
   ],
   "source": [
    "#Exercise 4: Lists\n",
    "uni = [\"Bocconi\", \"Esade\", \"Harvard\", \"UCL\"]\n",
    "print(uni)\n",
    "print(uni[0], uni[-1])"
   ]
  },
  {
   "cell_type": "code",
   "execution_count": 33,
   "id": "f809bc75-55d5-4b48-908c-fc8ebdab7cc6",
   "metadata": {},
   "outputs": [
    {
     "name": "stdout",
     "output_type": "stream",
     "text": [
      "{'name': 'kon', 'age': 23, 'grade': 9}\n"
     ]
    }
   ],
   "source": [
    "#Exercise 5: Dictionaries\n",
    "student = {\"name\": \"kon\", \"age\": 23, \"grade\": 9}\n",
    "print(student)"
   ]
  },
  {
   "cell_type": "code",
   "execution_count": 55,
   "id": "a692d338-4abe-4766-b90c-5e5903122b00",
   "metadata": {},
   "outputs": [
    {
     "data": {
      "text/plain": [
       "{'blue', 'green', 'red', 'white', 'yellow'}"
      ]
     },
     "execution_count": 55,
     "metadata": {},
     "output_type": "execute_result"
    }
   ],
   "source": [
    "#Exercise 7: Sets\n",
    "colors = {\"red\", \"green\", \"blue\"}\n",
    "colors.add(\"black\")\n",
    "colors.add(\"red\")\n",
    "colors\n",
    "colors.remove(\"black\")\n",
    "colors\n",
    "light_colors = {\"yellow\", \"white\"}\n",
    "colors.union(light_colors)"
   ]
  },
  {
   "cell_type": "code",
   "execution_count": 61,
   "id": "ca914434-e12c-4ab8-ab06-3e0066c4dfe8",
   "metadata": {},
   "outputs": [
    {
     "name": "stdin",
     "output_type": "stream",
     "text": [
      " -7\n"
     ]
    },
    {
     "name": "stdout",
     "output_type": "stream",
     "text": [
      "number is negative\n"
     ]
    }
   ],
   "source": [
    "#Exercise 8: Conditional Statements\n",
    "x = int(input())\n",
    "if x > 0:\n",
    "    print(\"number is positive\")\n",
    "\n",
    "elif x < 0:\n",
    "    print(\"number is negative\")\n",
    "\n",
    "else: \n",
    "    print(\"number is zero\")"
   ]
  },
  {
   "cell_type": "code",
   "execution_count": 63,
   "id": "6ca6a350-f6ae-4e5f-b50f-4c0bfcf0508f",
   "metadata": {},
   "outputs": [
    {
     "name": "stdout",
     "output_type": "stream",
     "text": [
      "1\n",
      "2\n",
      "3\n",
      "4\n",
      "5\n"
     ]
    }
   ],
   "source": [
    "#Exercise 9: For Loop\n",
    "my_list1 = [1,2,3,4,5]\n",
    "for i in my_list1:\n",
    "    print(i)"
   ]
  },
  {
   "cell_type": "code",
   "execution_count": 67,
   "id": "a946e22a-e636-46ae-bf13-053a556af7b7",
   "metadata": {},
   "outputs": [
    {
     "name": "stdout",
     "output_type": "stream",
     "text": [
      "1\n",
      "2\n",
      "3\n",
      "4\n",
      "5\n"
     ]
    }
   ],
   "source": [
    "#Exercise 10: While Loop\n",
    "num1 = 1\n",
    "while num1 < 6:\n",
    "    print(num1)\n",
    "    num1 = num1 +1"
   ]
  },
  {
   "cell_type": "code",
   "execution_count": 3,
   "id": "eeb5c5c0-2bc5-427c-9054-dcd9d638afb1",
   "metadata": {},
   "outputs": [
    {
     "name": "stdin",
     "output_type": "stream",
     "text": [
      "Enter a grade (A, B, C, D, or F):  a\n"
     ]
    },
    {
     "name": "stdout",
     "output_type": "stream",
     "text": [
      "Invalid grade entered.\n"
     ]
    }
   ],
   "source": [
    "#Exercise 11: Match Statement (Python 3.10+)\n",
    "grade = input(\"Enter a grade (A, B, C, D, or F): \")\n",
    "\n",
    "match grade:\n",
    "    case \"A\":\n",
    "        print(\"Excellent!\")\n",
    "    case \"B\":\n",
    "        print(\"Good job!\")\n",
    "    case \"C\":\n",
    "        print(\"Fair.\")\n",
    "    case \"D\":\n",
    "        print(\"Needs improvement.\")\n",
    "    case \"F\":\n",
    "        print(\"Failing.\")\n",
    "    case _:\n",
    "        print(\"Invalid grade entered.\")\n"
   ]
  },
  {
   "cell_type": "code",
   "execution_count": 70,
   "id": "6854c712-132d-4ba0-a0b5-1f880b098f5a",
   "metadata": {},
   "outputs": [],
   "source": [
    "#Exercise 12: Define a Function\n",
    "def greet(x):\n",
    "    print(\"Hello\", x)"
   ]
  },
  {
   "cell_type": "code",
   "execution_count": 72,
   "id": "91cb4e05-7f97-4538-9eab-a94ec2822c87",
   "metadata": {},
   "outputs": [
    {
     "name": "stdout",
     "output_type": "stream",
     "text": [
      "Hello Konstantinos\n"
     ]
    }
   ],
   "source": [
    "greet(\"Konstantinos\")"
   ]
  },
  {
   "cell_type": "code",
   "execution_count": 76,
   "id": "b31d82a9-75f5-4d8f-a054-2eeb994b4eba",
   "metadata": {},
   "outputs": [],
   "source": [
    "#Exercise 13: Function with Return Value\n",
    "def square(y):\n",
    "    print(y*y)"
   ]
  },
  {
   "cell_type": "code",
   "execution_count": 78,
   "id": "3f9e46e7-985d-4cbb-954f-5b2eaea9ee00",
   "metadata": {},
   "outputs": [
    {
     "name": "stdout",
     "output_type": "stream",
     "text": [
      "25\n"
     ]
    }
   ],
   "source": [
    "square(5)"
   ]
  },
  {
   "cell_type": "code",
   "execution_count": 82,
   "id": "6902da22-1f3b-4bd6-96ba-a38131d81a6e",
   "metadata": {},
   "outputs": [],
   "source": [
    "#Exercise 14: Function with Default Parameters\n",
    "def multiply(a, b=1):\n",
    "    return a*b"
   ]
  },
  {
   "cell_type": "code",
   "execution_count": 84,
   "id": "256a4c30-40f0-4e7e-a047-24cb580a1232",
   "metadata": {},
   "outputs": [
    {
     "data": {
      "text/plain": [
       "35"
      ]
     },
     "execution_count": 84,
     "metadata": {},
     "output_type": "execute_result"
    }
   ],
   "source": [
    "multiply(5,7)"
   ]
  },
  {
   "cell_type": "code",
   "execution_count": 86,
   "id": "601bd46c-0526-4058-b9fe-b7b576a15686",
   "metadata": {},
   "outputs": [
    {
     "data": {
      "text/plain": [
       "7"
      ]
     },
     "execution_count": 86,
     "metadata": {},
     "output_type": "execute_result"
    }
   ],
   "source": [
    "multiply(7)"
   ]
  },
  {
   "cell_type": "code",
   "execution_count": 1,
   "id": "40bd8e82-70a0-4100-87df-23f9228f5151",
   "metadata": {},
   "outputs": [
    {
     "name": "stdout",
     "output_type": "stream",
     "text": [
      "[1, 4, 9, 16, 25, 36, 49, 64, 81, 100]\n"
     ]
    }
   ],
   "source": [
    "#Exercise 15: List Comprehension\n",
    "numbers = list(range(1, 11))\n",
    "squared_numbers = [x**2 for x in numbers]\n",
    "print(squared_numbers)\n",
    "    "
   ]
  },
  {
   "cell_type": "code",
   "execution_count": 5,
   "id": "76511660-3aa7-4980-833c-55c1092dbdbc",
   "metadata": {},
   "outputs": [
    {
     "name": "stdout",
     "output_type": "stream",
     "text": [
      "Kostas: 87.67\n",
      "Chris: 75.00\n",
      "George: 95.67\n",
      "Nick: 61.00\n"
     ]
    }
   ],
   "source": [
    "#Exercise 16: Nested Data Structures\n",
    "students_grades = {\n",
    "    \"Kostas\": [90, 85, 88],\n",
    "    \"Chris\": [75, 80, 70],\n",
    "    \"George\": [95, 100, 92],\n",
    "    \"Nick\": [60, 65, 58]\n",
    "}\n",
    "\n",
    "def print_average_grades(grades_dict):\n",
    "    for student, grades in grades_dict.items():\n",
    "        average = sum(grades) / len(grades)\n",
    "        print(f\"{student}: {average:.2f}\")\n",
    "\n",
    "print_average_grades(students_grades)"
   ]
  },
  {
   "cell_type": "code",
   "execution_count": 7,
   "id": "cd0dc258-8a67-45df-9c00-dcc6563e2a15",
   "metadata": {},
   "outputs": [
    {
     "name": "stdin",
     "output_type": "stream",
     "text": [
      "Enter the first number:  4\n",
      "Enter the second number:  5\n",
      "Enter an operator (+, -, *, /):  +\n"
     ]
    },
    {
     "name": "stdout",
     "output_type": "stream",
     "text": [
      "The result is: 9.0\n"
     ]
    }
   ],
   "source": [
    "#Exercise 17: Simple Calculator\n",
    "def calculate(num1, num2, operator):\n",
    "    match operator:\n",
    "        case \"+\":\n",
    "            return num1 + num2\n",
    "        case \"-\":\n",
    "            return num1 - num2\n",
    "        case \"*\":\n",
    "            return num1 * num2\n",
    "        case \"/\":\n",
    "            return num1 / num2\n",
    "        case _:\n",
    "            return \"Invalid operator\"\n",
    "\n",
    "num1 = float(input(\"Enter the first number: \"))\n",
    "num2 = float(input(\"Enter the second number: \"))\n",
    "operator = input(\"Enter an operator (+, -, *, /): \")\n",
    "\n",
    "result = calculate(num1, num2, operator)\n",
    "print(f\"The result is: {result}\")"
   ]
  },
  {
   "cell_type": "code",
   "execution_count": null,
   "id": "c2252682-a492-498b-b61b-1762cc946709",
   "metadata": {},
   "outputs": [],
   "source": []
  }
 ],
 "metadata": {
  "kernelspec": {
   "display_name": "Python 3 (ipykernel)",
   "language": "python",
   "name": "python3"
  },
  "language_info": {
   "codemirror_mode": {
    "name": "ipython",
    "version": 3
   },
   "file_extension": ".py",
   "mimetype": "text/x-python",
   "name": "python",
   "nbconvert_exporter": "python",
   "pygments_lexer": "ipython3",
   "version": "3.12.4"
  }
 },
 "nbformat": 4,
 "nbformat_minor": 5
}
